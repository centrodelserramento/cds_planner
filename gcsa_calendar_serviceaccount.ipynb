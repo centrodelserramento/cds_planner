{
 "cells": [
  {
   "cell_type": "code",
   "execution_count": null,
   "metadata": {},
   "outputs": [],
   "source": [
    "%ls *.json"
   ]
  },
  {
   "cell_type": "code",
   "execution_count": null,
   "metadata": {},
   "outputs": [],
   "source": [
    "import gcsa.event\n",
    "from gcsa.google_calendar import GoogleCalendar\n",
    "from datetime import datetime, time, timedelta\n",
    "import pytz\n",
    "\n",
    "CALENDAR_ID='c_09141bdf953c7bf6a515aead06ea6698201ca5296e05db123194d26c8ff5266d@group.calendar.google.com'\n",
    "SCOPES = ['https://www.googleapis.com/auth/calendar']\n",
    "SERVICE_ACCOUNT_FILE = './calendario-centrodelserramento-09627e115b67.json'\n",
    "\n",
    "tz = pytz.timezone('America/Los_Angeles')\n",
    "start_date = tz.localize(datetime.today())\n",
    "tomorrow = tz.localize(datetime.today() + timedelta(days=1))\n",
    "end_date = tz.localize(datetime.combine(tomorrow, datetime.max.time()))\n"
   ]
  },
  {
   "cell_type": "code",
   "execution_count": null,
   "metadata": {},
   "outputs": [],
   "source": [
    "# authorize\n",
    "calendar_auth = GoogleCalendar(CALENDAR_ID, credentials_path=SERVICE_ACCOUNT_FILE)\n",
    "\n",
    "# service acct insert (since we can't login to 'add' it)\n",
    "calendar_list_entry = {\n",
    "    'id': CALENDAR_ID\n",
    "}\n",
    "calendar_list = calendar_auth.service.calendarList().insert(body=calendar_list_entry).execute()\n",
    "print(calendar_list['summary'])\n",
    "\n",
    "# get today and tomorrow's events\n",
    "calendar_events = calendar_auth.get_events(start_date, end_date, single_events=True, order_by='startTime')\n",
    "\n",
    "for event in calendar_events:\n",
    "    print(event)"
   ]
  },
  {
   "cell_type": "code",
   "execution_count": null,
   "metadata": {},
   "outputs": [],
   "source": [
    "import datetime\n",
    "import os.path\n",
    "\n",
    "from google.auth.transport.requests import Request\n",
    "from google.oauth2.credentials import Credentials\n",
    "from google_auth_oauthlib.flow import InstalledAppFlow\n",
    "from googleapiclient.discovery import build\n",
    "from googleapiclient.errors import HttpError"
   ]
  },
  {
   "cell_type": "code",
   "execution_count": null,
   "metadata": {},
   "outputs": [],
   "source": [
    "SCOPES = [\"https://www.googleapis.com/auth/calendar\"]\n"
   ]
  },
  {
   "cell_type": "code",
   "execution_count": null,
   "metadata": {},
   "outputs": [],
   "source": [
    "creds = Credentials.from_authorized_user_file(\"token.json\", SCOPES)\n",
    "Credentials."
   ]
  },
  {
   "cell_type": "code",
   "execution_count": null,
   "metadata": {},
   "outputs": [],
   "source": [
    "from oauth2client.service_account import ServiceAccountCredentials\n"
   ]
  },
  {
   "cell_type": "code",
   "execution_count": null,
   "metadata": {},
   "outputs": [],
   "source": [
    "%pip install oauth2client"
   ]
  },
  {
   "cell_type": "code",
   "execution_count": null,
   "metadata": {},
   "outputs": [],
   "source": [
    "credential = ServiceAccountCredentials.from_json_keyfile_name(\n",
    "    SERVICE_ACCOUNT_FILE, SCOPES)\n"
   ]
  },
  {
   "cell_type": "code",
   "execution_count": null,
   "metadata": {},
   "outputs": [],
   "source": [
    "ServiceAccountCredentials.from_json_keyfile_name?"
   ]
  },
  {
   "cell_type": "code",
   "execution_count": null,
   "metadata": {},
   "outputs": [],
   "source": [
    "build?"
   ]
  },
  {
   "cell_type": "code",
   "execution_count": null,
   "metadata": {},
   "outputs": [],
   "source": [
    "delegated_credentials = credential.with_subject('andrea@andreazonca.com')\n"
   ]
  },
  {
   "cell_type": "code",
   "execution_count": null,
   "metadata": {},
   "outputs": [],
   "source": [
    "delegated_credentials = credential.create_delegated(\"andrea@andreazonca.com\")"
   ]
  },
  {
   "cell_type": "code",
   "execution_count": null,
   "metadata": {},
   "outputs": [],
   "source": [
    "    service = build(\"calendar\", \"v3\", credentials=delegated_credentials)\n"
   ]
  },
  {
   "cell_type": "code",
   "execution_count": null,
   "metadata": {},
   "outputs": [],
   "source": [
    "    now = datetime.datetime.utcnow().isoformat() + \"Z\"  # 'Z' indicates UTC time\n"
   ]
  },
  {
   "cell_type": "code",
   "execution_count": null,
   "metadata": {},
   "outputs": [],
   "source": [
    "    events_result = (\n",
    "        service.events()\n",
    "        .list(\n",
    "            calendarId=CALENDAR_ID,\n",
    "            timeMin=now,\n",
    "            maxResults=10,\n",
    "            singleEvents=True,\n",
    "            orderBy=\"startTime\",\n",
    "        )\n",
    "        .execute()\n",
    "    )\n",
    "    events = events_result.get(\"items\", [])\n",
    "\n",
    "    if not events:\n",
    "      print(\"No upcoming events found.\")\n",
    "\n",
    "    # Prints the start and name of the next 10 events\n",
    "    for event in events:\n",
    "      start = event[\"start\"].get(\"dateTime\", event[\"start\"].get(\"date\"))\n",
    "      print(start, event[\"summary\"])"
   ]
  },
  {
   "cell_type": "code",
   "execution_count": null,
   "metadata": {},
   "outputs": [],
   "source": [
    "# authorize\n",
    "calendar_auth = GoogleCalendar(CALENDAR_ID, credentials=credential)\n",
    "\n",
    "# service acct insert (since we can't login to 'add' it)\n",
    "calendar_list_entry = {\n",
    "    'id': CALENDAR_ID\n",
    "}\n",
    "calendar_list = calendar_auth.service.calendarList().insert(body=calendar_list_entry).execute()\n",
    "print(calendar_list['summary'])\n",
    "\n",
    "# get today and tomorrow's events\n",
    "calendar_events = calendar_auth.get_events(start_date, end_date, single_events=True, order_by='startTime')\n",
    "\n",
    "for event in calendar_events:\n",
    "    print(event)"
   ]
  },
  {
   "cell_type": "code",
   "execution_count": null,
   "metadata": {},
   "outputs": [],
   "source": [
    "type(credential)"
   ]
  },
  {
   "cell_type": "code",
   "execution_count": null,
   "metadata": {},
   "outputs": [],
   "source": [
    "credential."
   ]
  },
  {
   "cell_type": "code",
   "execution_count": null,
   "metadata": {},
   "outputs": [],
   "source": [
    "    events_result = (\n",
    "        service.events()\n",
    "        .list(\n",
    "            calendarId=CALENDAR_ID,\n",
    "            timeMin=now,\n",
    "            maxResults=10,\n",
    "            singleEvents=True,\n",
    "            orderBy=\"startTime\",\n",
    "        )\n",
    "        .execute()\n",
    "    )\n",
    "    events = events_result.get(\"items\", [])\n",
    "\n",
    "    if not events:\n",
    "      print(\"No upcoming events found.\")\n",
    "\n",
    "    # Prints the start and name of the next 10 events\n",
    "    for event in events:\n",
    "      start = event[\"start\"].get(\"dateTime\", event[\"start\"].get(\"date\"))\n",
    "      print(start, event[\"summary\"])"
   ]
  },
  {
   "cell_type": "code",
   "execution_count": null,
   "metadata": {},
   "outputs": [],
   "source": [
    "# Refer to the Python quickstart on how to setup the environment:\n",
    "# https://developers.google.com/calendar/quickstart/python\n",
    "# Change the scope to 'https://www.googleapis.com/auth/calendar' and delete any\n",
    "# stored credentials.\n",
    "\n",
    "event = {\n",
    "  'summary': 'Posa a Centro del Serramento',\n",
    "  'location': 'Via Rho, 27 LAINATE Milano',\n",
    "  'description': 'Descrizione e link a planner, creato da script Python',\n",
    "  'start': {\n",
    "    'dateTime': '2024-03-20T21:00:00-07:00',\n",
    "    'timeZone': 'America/Los_Angeles',\n",
    "  },\n",
    "  'end': {\n",
    "    'dateTime': '2024-03-20T23:00:00-07:00',\n",
    "    'timeZone': 'America/Los_Angeles',\n",
    "  },\n",
    "   'attendees': [\n",
    "    {'email': 'andrea.zonca@gmail.com'},\n",
    "    {'email': 'marco.colombo@centrodelserramento.com'},\n",
    "  ],\n",
    "  'reminders': {\n",
    "    'useDefault': False,\n",
    "    'overrides': [\n",
    "      {'method': 'email', 'minutes': 24 * 60},\n",
    "      {'method': 'popup', 'minutes': 10},\n",
    "    ],\n",
    "  },\n",
    "}\n",
    "\n",
    "event = service.events().insert(calendarId=CALENDAR_ID, body=event).execute()\n",
    "print('Event created: %s' % (event.get('htmlLink')))\n"
   ]
  },
  {
   "cell_type": "code",
   "execution_count": null,
   "metadata": {},
   "outputs": [],
   "source": [
    "event"
   ]
  },
  {
   "cell_type": "code",
   "execution_count": null,
   "metadata": {},
   "outputs": [],
   "source": [
    "eventID= event['id']"
   ]
  },
  {
   "cell_type": "code",
   "execution_count": null,
   "metadata": {},
   "outputs": [],
   "source": [
    "eventID"
   ]
  },
  {
   "cell_type": "code",
   "execution_count": null,
   "metadata": {},
   "outputs": [],
   "source": [
    "event[\"id\"], event2[\"id\"]"
   ]
  },
  {
   "cell_type": "code",
   "execution_count": null,
   "metadata": {},
   "outputs": [],
   "source": [
    "CALENDAR_ID"
   ]
  },
  {
   "cell_type": "code",
   "execution_count": null,
   "metadata": {},
   "outputs": [],
   "source": [
    "# First retrieve the event from the API.\n",
    "event2 = service.events().get(calendarId=CALENDAR_ID, eventId=eventID).execute()\n",
    "\n",
    "event2['summary'] = 'Updated event summary'\n",
    "\n",
    "updated_event = service.events().update(calendarId=CALENDAR_ID, eventId=event['id'], body=event2).execute()\n",
    "\n",
    "# Print the updated date.\n",
    "print(updated_event['updated'])"
   ]
  },
  {
   "cell_type": "code",
   "execution_count": null,
   "metadata": {},
   "outputs": [],
   "source": [
    "type(delegated_credentials)"
   ]
  },
  {
   "cell_type": "code",
   "execution_count": null,
   "metadata": {},
   "outputs": [],
   "source": [
    "calendar_auth = GoogleCalendar(CALENDAR_ID, credentials=delegated_credentials)\n"
   ]
  },
  {
   "cell_type": "code",
   "execution_count": null,
   "metadata": {},
   "outputs": [],
   "source": [
    "%ls -l token*"
   ]
  },
  {
   "cell_type": "code",
   "execution_count": null,
   "metadata": {},
   "outputs": [],
   "source": [
    "delegated_credentials."
   ]
  }
 ],
 "metadata": {
  "kernelspec": {
   "display_name": ".venv",
   "language": "python",
   "name": "python3"
  },
  "language_info": {
   "codemirror_mode": {
    "name": "ipython",
    "version": 3
   },
   "file_extension": ".py",
   "mimetype": "text/x-python",
   "name": "python",
   "nbconvert_exporter": "python",
   "pygments_lexer": "ipython3",
   "version": "3.11.2"
  }
 },
 "nbformat": 4,
 "nbformat_minor": 2
}
